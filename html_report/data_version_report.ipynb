{
 "cells": [
  {
   "cell_type": "code",
   "execution_count": 2,
   "metadata": {},
   "outputs": [
    {
     "name": "stdout",
     "output_type": "stream",
     "text": [
      "\n",
      "genotyping_by_sequencing samples count = 187\n",
      "applied_reference_genome samples count = 11\n",
      "snp_marker samples count = 279\n",
      "whole_genome_sequencing samples count = 25\n",
      "[27236787, 5164628]\n"
     ]
    },
    {
     "data": {
      "image/png": "[encoded data removed]",
      "text/plain": [
       "<Figure size 432x288 with 1 Axes>"
      ]
     },
     "metadata": {
      "needs_background": "light"
     },
     "output_type": "display_data"
    },
    {
     "data": {
      "image/png": "[encoded data removed]",
      "text/plain": [
       "<Figure size 432x288 with 1 Axes>"
      ]
     },
     "metadata": {
      "needs_background": "light"
     },
     "output_type": "display_data"
    }
   ],
   "source": [
    "%matplotlib inline\n",
    "import sys\n",
    "import os\n",
    "working_dir_path = os.getcwd()\n",
    "genomagic_qa_repo_path = '/'.join(working_dir_path.split('/')[:-1])\n",
    "\n",
    "\n",
    "#data_version=os.getenv(\"DATA_VERSION\")\n",
    "#host=os.getenv(\"REDSHIFT_HOST\")\n",
    "host='rndlab-genomagic-redshift.cl6ox83ermwm.us-east-1.redshift.amazonaws.com'\n",
    "data_version='dm_gm_public_maize_232'\n",
    "assert data_version is not None, \"env variable DATA_VERSION is not defined\"\n",
    "assert host is not None, \"env variable REDSHIFT_HOST is not defined\"\n",
    "\n",
    "#data_version='maize_benchmark_test_fix_mkrs_919_01'\n",
    "sys.path.append(genomagic_qa_repo_path)\n",
    "import redshift.redshift_queries as rs\n",
    "\n",
    "#host='rndlab-genomagic-redshift.cl6ox83ermwm.us-east-1.redshift.amazonaws.com'\n",
    "print(rs.get_samples_type_info_as_string(host, data_version))\n",
    "print(rs.get_hap_count_total_hap_markers_as_string(host, data_version))\n",
    "rs.hist_count(host, data_version)\n",
    "rs.hist_count2(host, data_version)"
   ]
  },
  {
   "cell_type": "code",
   "execution_count": 3,
   "metadata": {},
   "outputs": [
    {
     "ename": "TypeError",
     "evalue": "get_median_length_of_hap_similarity() missing 1 required positional argument: 'min_score'",
     "output_type": "error",
     "traceback": [
      "\u001b[0;31m---------------------------------------------------------------------------\u001b[0m",
      "\u001b[0;31mTypeError\u001b[0m                                 Traceback (most recent call last)",
      "\u001b[0;32m<ipython-input-3-94ffb3454a66>\u001b[0m in \u001b[0;36m<module>\u001b[0;34m\u001b[0m\n\u001b[0;32m----> 1\u001b[0;31m \u001b[0mv1\u001b[0m \u001b[0;34m=\u001b[0m \u001b[0mrs\u001b[0m\u001b[0;34m.\u001b[0m\u001b[0mget_median_length_of_hap_similarity\u001b[0m\u001b[0;34m(\u001b[0m\u001b[0mhost\u001b[0m\u001b[0;34m,\u001b[0m \u001b[0mdata_version\u001b[0m\u001b[0;34m,\u001b[0m\u001b[0;36m0\u001b[0m\u001b[0;34m)\u001b[0m\u001b[0;34m\u001b[0m\u001b[0;34m\u001b[0m\u001b[0m\n\u001b[0m\u001b[1;32m      2\u001b[0m \u001b[0mv2\u001b[0m \u001b[0;34m=\u001b[0m \u001b[0mrs\u001b[0m\u001b[0;34m.\u001b[0m\u001b[0mget_median_length_of_hap_similarity\u001b[0m\u001b[0;34m(\u001b[0m\u001b[0mhost\u001b[0m\u001b[0;34m,\u001b[0m \u001b[0mdata_version\u001b[0m\u001b[0;34m,\u001b[0m\u001b[0;36m0.9\u001b[0m\u001b[0;34m)\u001b[0m\u001b[0;34m\u001b[0m\u001b[0;34m\u001b[0m\u001b[0m\n\u001b[1;32m      3\u001b[0m \u001b[0mprint\u001b[0m\u001b[0;34m(\u001b[0m\u001b[0;34m'median_length_of_hap_similarity is {}, and for score>0.9 its {}'\u001b[0m\u001b[0;34m.\u001b[0m\u001b[0mformat\u001b[0m\u001b[0;34m(\u001b[0m\u001b[0mv1\u001b[0m\u001b[0;34m,\u001b[0m\u001b[0mv2\u001b[0m\u001b[0;34m)\u001b[0m\u001b[0;34m)\u001b[0m\u001b[0;34m\u001b[0m\u001b[0;34m\u001b[0m\u001b[0m\n\u001b[1;32m      4\u001b[0m \u001b[0mv1\u001b[0m \u001b[0;34m=\u001b[0m \u001b[0mrs\u001b[0m\u001b[0;34m.\u001b[0m\u001b[0mget_average_length_of_hap_similarity\u001b[0m\u001b[0;34m(\u001b[0m\u001b[0mhost\u001b[0m\u001b[0;34m,\u001b[0m \u001b[0mdata_version\u001b[0m\u001b[0;34m,\u001b[0m\u001b[0;36m0\u001b[0m\u001b[0;34m)\u001b[0m\u001b[0;34m\u001b[0m\u001b[0;34m\u001b[0m\u001b[0m\n\u001b[1;32m      5\u001b[0m \u001b[0mv2\u001b[0m \u001b[0;34m=\u001b[0m \u001b[0mrs\u001b[0m\u001b[0;34m.\u001b[0m\u001b[0mget_average_length_of_hap_similarity\u001b[0m\u001b[0;34m(\u001b[0m\u001b[0mhost\u001b[0m\u001b[0;34m,\u001b[0m \u001b[0mdata_version\u001b[0m\u001b[0;34m,\u001b[0m\u001b[0;36m0.9\u001b[0m\u001b[0;34m)\u001b[0m\u001b[0;34m\u001b[0m\u001b[0;34m\u001b[0m\u001b[0m\n",
      "\u001b[0;31mTypeError\u001b[0m: get_median_length_of_hap_similarity() missing 1 required positional argument: 'min_score'"
     ]
    }
   ],
   "source": [
    "#v1 = rs.get_median_length_of_hap_similarity(host, data_version,0)\n",
    "#v2 = rs.get_median_length_of_hap_similarity(host, data_version,0.9)\n",
    "#print('median_length_of_hap_similarity is {}, and for score>0.9 its {}'.format(v1,v2))\n",
    "#v1 = rs.get_average_length_of_hap_similarity(host, data_version,0)\n",
    "#v2 = rs.get_average_length_of_hap_similarity(host, data_version,0.9)\n",
    "#print('average length_of_hap_similarity is {}, and for score>0.9 its {}'.format(v1,v2))\n",
    "m = rs.total_similarity(host, data_version)\n",
    "print('mean similarity coverage is {}'.format(m))\n",
    "print('full similarity count written to similarity_length.csv')\n",
    "rs.len_histogram(host, data_version)"
   ]
  },
  {
   "cell_type": "code",
   "execution_count": null,
   "metadata": {},
   "outputs": [],
   "source": []
  }
 ],
 "metadata": {
  "kernelspec": {
   "display_name": "Python 3",
   "language": "python",
   "name": "python3"
  },
  "language_info": {
   "codemirror_mode": {
    "name": "ipython",
    "version": 3
   },
   "file_extension": ".py",
   "mimetype": "text/x-python",
   "name": "python",
   "nbconvert_exporter": "python",
   "pygments_lexer": "ipython3",
   "version": "3.7.4"
  }
 },
 "nbformat": 4,
 "nbformat_minor": 2
}
