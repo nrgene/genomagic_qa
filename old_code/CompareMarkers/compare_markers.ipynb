{
 "cells": [
  {
   "cell_type": "code",
   "execution_count": 18,
   "metadata": {},
   "outputs": [
    {
     "name": "stdout",
     "output_type": "stream",
     "text": [
      "total markers in region=24, 0.63 are similar\n"
     ]
    }
   ],
   "source": [
    "from urllib2 import Request, urlopen, URLError\n",
    "\n",
    "# parameters - can change\n",
    "data_version='dm_gm_public_maize_232'\n",
    "port='http://api-dev:8080/genomagic-api/v1/'\n",
    "locations='1:1-1000000'\n",
    "sample1='b73v4__ver100'\n",
    "sample2='w22__ver100'\n",
    "hap_markers_job='sync-job/HAPLOTYPE_MARKERS_COLOR_VCF.vcf'\n",
    "snp_markers_job='sync-job/SNP_MARKERS_COLOR_VCF.vcf'\n",
    "selected_job=snp_markers_job\n",
    "\n",
    "\n",
    "# from here - please do not change\n",
    "number_of_info_columns=9\n",
    "samples_data=[sample1,sample2]\n",
    "markers_url='{}{}?dataVersion={}&locations={}&samplesQuery={}&outputSamples={}'.format(port,selected_job,data_version,locations,'+OR+'.join(samples_data),','.join(samples_data))\n",
    "markers_request = urlopen(Request(markers_url))\n",
    "line=markers_request.readline().rstrip()\n",
    "while line[0]==\"#\":\n",
    "    parts=line.split('\\t')\n",
    "    line=markers_request.readline().rstrip()\n",
    "info_fields=[\"#CHROM\",\"POS\",\"ID\",\"REF\",\"ALT\",\"QUAL\",\"FILTER\",\"INFO\",\"FORMAT\"]\n",
    "assert parts[:number_of_info_columns]==info_fields,parts[:number_of_info_columns]\n",
    "line=markers_request.readline().rstrip()\n",
    "stats=[0,0]\n",
    "while line:\n",
    "    parts=line.split('\\t')\n",
    "    if parts[9]==parts[10]:\n",
    "        stats[0]+=1\n",
    "    else:\n",
    "        stats[1]+=1\n",
    "    line=markers_request.readline().rstrip()\n",
    "n=sum(stats)\n",
    "print \"total markers in region={}, {} are similar\".format(n,round(float(stats[0])/n,2))"
   ]
  },
  {
   "cell_type": "code",
   "execution_count": null,
   "metadata": {},
   "outputs": [],
   "source": []
  },
  {
   "cell_type": "code",
   "execution_count": null,
   "metadata": {},
   "outputs": [],
   "source": []
  }
 ],
 "metadata": {
  "kernelspec": {
   "display_name": "Python 2",
   "language": "python",
   "name": "python2"
  },
  "language_info": {
   "codemirror_mode": {
    "name": "ipython",
    "version": 2
   },
   "file_extension": ".py",
   "mimetype": "text/x-python",
   "name": "python",
   "nbconvert_exporter": "python",
   "pygments_lexer": "ipython2",
   "version": "2.7.12"
  }
 },
 "nbformat": 4,
 "nbformat_minor": 2
}
