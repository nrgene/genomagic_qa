{
 "cells": [
  {
   "cell_type": "code",
   "execution_count": 2,
   "metadata": {},
   "outputs": [],
   "source": [
    "import os\n",
    "import sys\n",
    "working_dir_path = os.getcwd()\n",
    "genomagic_qa_repo_path = '/'.join(working_dir_path.split('/')[:-1])\n",
    "sys.path.append(genomagic_qa_repo_path)\n",
    "import vcf_utils.vcf_iterator as vi"
   ]
  },
  {
   "cell_type": "code",
   "execution_count": 13,
   "metadata": {},
   "outputs": [],
   "source": [
    "snp_file = '/prodslow/testing/ariel/genomagic_qa/PSG-16/snp_markers'\n",
    "imp_file = '/prodslow/testing/ariel/genomagic_qa/PSG-16/imputed_markers'\n",
    "snp_ite = vi.VcfIterator(snp_file)\n",
    "imp_ite = vi.VcfIterator(imp_file)"
   ]
  },
  {
   "cell_type": "code",
   "execution_count": 12,
   "metadata": {},
   "outputs": [],
   "source": [
    "print(snp_ite.get_headers())\n",
    "print(imp_ite.get_headers())\n"
   ]
  },
  {
   "cell_type": "code",
   "execution_count": 10,
   "metadata": {},
   "outputs": [
    {
     "name": "stdout",
     "output_type": "stream",
     "text": [
      "['#CHROM', 'POS', 'ID', 'REF', 'ALT', 'QUAL', 'FILTER', 'INFO', 'FORMAT', 'ld02_9050', 'lg90_2550', 'pi404188a', '4j105_3_4', 'lg97_7012', '5m20_2_5_2', 'cl0j095_4_6', 'ld00_3309', 'ld01_5907', 'lg03_2979', 'lg03_3191', 'lg04_4717', 'lg05_4317', 'lg05_4464', 'lg94_1128', 'lg94_1906', 'lg98_1605', 'maverick', 'ne3001', 'pi437169b', 'pi518751', 'prohio', 'skylla', 'tn05_3027', 'cl0j173_6_8', 'hs6_3976', 'ld02_4485', 'lg00_3372', 'lg04_6000', 'lg05_4292', 'lg05_4832', 'lg92_1255', 'magellan', 'pi398881', 'pi427136', 'pi561370', 'pi574486', 's06_13640', 'u03_100612']\n"
     ]
    }
   ],
   "source": []
  },
  {
   "cell_type": "code",
   "execution_count": null,
   "metadata": {},
   "outputs": [],
   "source": []
  }
 ],
 "metadata": {
  "kernelspec": {
   "display_name": "Python 3",
   "language": "python",
   "name": "python3"
  },
  "language_info": {
   "codemirror_mode": {
    "name": "ipython",
    "version": 3
   },
   "file_extension": ".py",
   "mimetype": "text/x-python",
   "name": "python",
   "nbconvert_exporter": "python",
   "pygments_lexer": "ipython3",
   "version": "3.7.4"
  }
 },
 "nbformat": 4,
 "nbformat_minor": 2
}
