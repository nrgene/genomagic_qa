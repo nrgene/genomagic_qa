{
 "cells": [
  {
   "cell_type": "code",
   "execution_count": null,
   "metadata": {},
   "outputs": [],
   "source": [
    "%matplotlib inline\n",
    "import sys\n",
    "import os\n",
    "working_dir_path = os.getcwd()\n",
    "genomagic_qa_repo_path = '/'.join(working_dir_path.split('/')[:-1])\n",
    "print(\"repo location: {}\".format(genomagic_qa_repo_path))\n",
    "sys.path.append(genomagic_qa_repo_path)\n",
    "import redshift.redshift_queries as rs"
   ]
  },
  {
   "cell_type": "code",
   "execution_count": null,
   "metadata": {},
   "outputs": [],
   "source": [
    "data_version=os.getenv(\"DATA_VERSION\")\n",
    "host=os.getenv(\"REDSHIFT_HOST\")\n",
    "#host='rndlab-genomagic-redshift.cl6ox83ermwm.us-east-1.redshift.amazonaws.com'\n",
    "#data_version='dm_gm_public_maize_232'\n",
    "assert data_version is not None, \"env variable DATA_VERSION is not defined\"\n",
    "assert host is not None, \"env variable REDSHIFT_HOST is not defined\"\n"
   ]
  },
  {
   "cell_type": "code",
   "execution_count": null,
   "metadata": {},
   "outputs": [],
   "source": [
    "print(rs.get_samples_type_info_as_string(host, data_version))\n",
    "print(rs.get_hap_count_total_hap_markers_as_string(host, data_version))\n",
    "rs.hist_count(host, data_version)\n",
    "rs.hist_count2(host, data_version)"
   ]
  },
  {
   "cell_type": "code",
   "execution_count": null,
   "metadata": {},
   "outputs": [],
   "source": [
    "#v1 = rs.get_median_length_of_hap_similarity(host, data_version,0)\n",
    "#v2 = rs.get_median_length_of_hap_similarity(host, data_version,0.9)\n",
    "#print('median_length_of_hap_similarity is {}, and for score>0.9 its {}'.format(v1,v2))\n",
    "#v1 = rs.get_average_length_of_hap_similarity(host, data_version,0)\n",
    "#v2 = rs.get_average_length_of_hap_similarity(host, data_version,0.9)\n",
    "#print('average length_of_hap_similarity is {}, and for score>0.9 its {}'.format(v1,v2))\n",
    "\n",
    "#TODO: fix bug\n",
    "#m = rs.total_similarity(host, data_version)\n",
    "#print('mean similarity coverage is {}'.format(m))\n",
    "#print('full similarity count written to similarity_length.csv')\n",
    "rs.len_histogram(host, data_version)"
   ]
  }
 ],
 "metadata": {
  "kernelspec": {
   "display_name": "Python 3",
   "language": "python",
   "name": "python3"
  },
  "language_info": {
   "codemirror_mode": {
    "name": "ipython",
    "version": 3
   },
   "file_extension": ".py",
   "mimetype": "text/x-python",
   "name": "python",
   "nbconvert_exporter": "python",
   "pygments_lexer": "ipython3",
   "version": "3.7.4"
  }
 },
 "nbformat": 4,
 "nbformat_minor": 2
}
