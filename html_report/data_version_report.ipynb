{
 "cells": [
  {
   "cell_type": "code",
   "execution_count": 1,
   "metadata": {},
   "outputs": [
    {
     "name": "stdout",
     "output_type": "stream",
     "text": [
      "dv env = None\n"
     ]
    }
   ],
   "source": [
    "import sys\n",
    "import os\n",
    "data_version=os.getenv(\"DATA_VERSION\")\n",
    "print('dv env = {}'.format(data_version))\n",
    "genomagic_qa_repo_path = '/home/ariel/clients/genomagic_qa'\n",
    "sys.path.append('{}/src'.format(genomagic_qa_repo_path))\n",
    "import redshift_queries.redshift_basic as rs\n",
    "host='rndlab-genomagic-redshift.cl6ox83ermwm.us-east-1.redshift.amazonaws.com'\n",
    "data_version = 'maize_benchmark_test_fix_mkrs_919_01'"
   ]
  },
  {
   "cell_type": "code",
   "execution_count": 2,
   "metadata": {},
   "outputs": [
    {
     "name": "stdout",
     "output_type": "stream",
     "text": [
      "whole_genome_sequencing samples count = 40\n",
      "applied_reference_genome samples count = 11\n"
     ]
    }
   ],
   "source": [
    "samples_table = rs.get_table_name(host, data_version, 'SAMPLES')\n",
    "rows = rs.simple_grouping(host, samples_table, 'analysis_method')\n",
    "for r in rows:\n",
    "    assert len(r) == 2\n",
    "    print('{} samples count = {}'.format(r[1], r[0]))"
   ]
  },
  {
   "cell_type": "code",
   "execution_count": 3,
   "metadata": {},
   "outputs": [
    {
     "name": "stdout",
     "output_type": "stream",
     "text": [
      "in table maize_benchmark_test_fix_mkrs_919_01_haplotypes_info_view there are total of 31M haplotype markers 10M of them are unmapped\n"
     ]
    }
   ],
   "source": [
    "haplotypes_info_table = rs.get_table_name(host, data_version, 'HAPLOTYPES_INFO')\n",
    "rows = rs.get_all_results(host, 'SELECT COUNT(*) FROM {};'.format(haplotypes_info_table))\n",
    "hap_markers_count = int(rows[0][0]/1000000)\n",
    "rows = rs.get_all_results(host, 'SELECT COUNT(*) FROM {} WHERE chromosome=0;'.format(haplotypes_info_table))\n",
    "unmapped_hap_markers_count = int(rows[0][0]/1000000)\n",
    "print('in table {} there are total of {}M haplotype markers {}M of them are unmapped'.format(haplotypes_info_table, hap_markers_count, unmapped_hap_markers_count))"
   ]
  },
  {
   "cell_type": "code",
   "execution_count": 4,
   "metadata": {},
   "outputs": [
    {
     "name": "stdout",
     "output_type": "stream",
     "text": [
      "There are 232M hapsXsamples 79M of them are unmapped\n"
     ]
    }
   ],
   "source": [
    "haplotypes_samples_table = rs.get_table_name(host, data_version, 'HAPLOTYPE_SAMPLES')\n",
    "sub_table_samples = 'samples AS (SELECT haplotype_idx, sample_id FROM {})'.format(haplotypes_samples_table)\n",
    "sub_table_haps = 'haps AS (SELECT haplotype_idx, chromosome FROM {})'.format(haplotypes_info_table)\n",
    "inner_join_sub_table = 'samples INNER JOIN haps ON samples.haplotype_idx=haps.haplotype_idx'\n",
    "hapsXsamples_query = 'WITH {}, {} SELECT COUNT(*) FROM {}'.format(sub_table_samples, sub_table_haps, inner_join_sub_table)\n",
    "rows = rs.get_all_results(host, '{};'.format(hapsXsamples_query))\n",
    "total_haps_samples = int(rows[0][0]/1000000)\n",
    "rows = rs.get_all_results(host, '{} WHERE chromosome=0;'.format(hapsXsamples_query))\n",
    "unmapped_haps_samples = int(rows[0][0]/1000000)\n",
    "print('There are {}M hapsXsamples {}M of them are unmapped'.format(total_haps_samples, unmapped_haps_samples))"
   ]
  },
  {
   "cell_type": "code",
   "execution_count": 16,
   "metadata": {},
   "outputs": [
    {
     "data": {
      "image/png": "[encoded data removed]",
      "text/plain": [
       "<Figure size 432x288 with 1 Axes>"
      ]
     },
     "metadata": {
      "needs_background": "light"
     },
     "output_type": "display_data"
    }
   ],
   "source": [
    "import pandas as pd\n",
    "import matplotlib.pyplot as plt\n",
    "import numpy as np\n",
    "similarity_table = rs.get_table_name(host, data_version, 'HAPLOTYPES_SIMILARITY')\n",
    "score_query = 'SELECT COUNT(*), ROUND(similarity_score,1) as sc from {} GROUP BY sc;'.format(similarity_table)\n",
    "\n",
    "rows = rs.get_all_results(host, score_query)\n",
    "assert len(rows)==11\n",
    "df = pd.DataFrame.from_records(rows, columns =['Count', 'Score']).sort_values(by=['Score'])\n",
    "#plt.bar(df['Count'])\n",
    "#plt.show() \n",
    "\n",
    "\n",
    "\n",
    "height = df['Count']\n",
    "bars = df['Score']\n",
    "y_pos = np.arange(len(bars))\n",
    " \n",
    "# Create bars\n",
    "plt.bar(y_pos, height)\n",
    " \n",
    "# Create names on the x-axis\n",
    "plt.xticks(y_pos, bars)\n",
    " \n",
    "# Show graphic\n",
    "plt.show()\n",
    "\n",
    "\n",
    "#ax = df.plot.bar(x='Score', y='Count', rot=0, title='haplotype similarity score histogram')\n",
    "#ax.set_ylabel(\"count\");\n",
    "#ax.set_xlabel(\"score\");\n",
    "#plt.show()"
   ]
  },
  {
   "cell_type": "code",
   "execution_count": 6,
   "metadata": {},
   "outputs": [],
   "source": [
    "#score_len_query = 'SELECT AVG(end_position-start_position), ROUND(similarity_score,2) as sc from {} GROUP BY sc;'.format(similarity_table)\n",
    "#rows = rs.get_all_results(host, score_len_query)\n",
    "#df2 = pd.DataFrame.from_records(rows, columns =['mean len', 'score']).sort_values(by=['score'])\n",
    "#ax1 = df2.plot.scatter(x='score',y='mean len',c='DarkBlue', title='score vs sim length')\n",
    "                      "
   ]
  }
 ],
 "metadata": {
  "kernelspec": {
   "display_name": "Python 3",
   "language": "python",
   "name": "python3"
  },
  "language_info": {
   "codemirror_mode": {
    "name": "ipython",
    "version": 3
   },
   "file_extension": ".py",
   "mimetype": "text/x-python",
   "name": "python",
   "nbconvert_exporter": "python",
   "pygments_lexer": "ipython3",
   "version": "3.7.4"
  }
 },
 "nbformat": 4,
 "nbformat_minor": 2
}
