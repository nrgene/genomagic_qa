{
 "cells": [
  {
   "cell_type": "code",
   "execution_count": 1,
   "metadata": {},
   "outputs": [],
   "source": [
    "import sys\n",
    "import os\n",
    "dv_env=os.getenv(\"DATA_VERSION\")\n",
    "print('dv env = {}'.format(dv_env))\n",
    "genomagic_qa_repo_path = '/home/ariel/clients/genomagic_qa'\n",
    "sys.path.append('{}/src'.format(genomagic_qa_repo_path))\n",
    "import redshift_queries.redshift_basic as rs\n",
    "host='rndlab-genomagic-redshift.cl6ox83ermwm.us-east-1.redshift.amazonaws.com'\n",
    "data_version = 'maize_benchmark_test_fix_mkrs_919_01'"
   ]
  },
  {
   "cell_type": "code",
   "execution_count": 1,
   "metadata": {},
   "outputs": [],
   "source": [
    "samples_table = rs.get_table_name(host, data_version, 'SAMPLES')\n",
    "rows = rs.simple_grouping(host, samples_table, 'analysis_method')\n",
    "for r in rows:\n",
    "    assert len(r) == 2\n",
    "    print('{} samples count = {}'.format(r[1], r[0]))"
   ]
  },
  {
   "cell_type": "code",
   "execution_count": 1,
   "metadata": {},
   "outputs": [],
   "source": [
    "haplotypes_info_table = rs.get_table_name(host, data_version, 'HAPLOTYPES_INFO')\n",
    "rows = rs.get_all_results(host, 'SELECT COUNT(*) FROM {};'.format(haplotypes_info_table))\n",
    "hap_markers_count = rows[0][0]\n",
    "rows = rs.get_all_results(host, 'SELECT COUNT(*) FROM {} WHERE chromosome=0;'.format(haplotypes_info_table))\n",
    "unmapped_hap_markers_count = rows[0][0]\n",
    "print('in table {} there are total of {} haplotype markers {} of them unmapped'.format(haplotypes_info_table, hap_markers_count, unmapped_hap_markers_count))"
   ]
  }
 ],
 "metadata": {
  "kernelspec": {
   "display_name": "Python 3",
   "language": "python",
   "name": "python3"
  },
  "language_info": {
   "codemirror_mode": {
    "name": "ipython",
    "version": 3
   },
   "file_extension": ".py",
   "mimetype": "text/x-python",
   "name": "python",
   "nbconvert_exporter": "python",
   "pygments_lexer": "ipython3",
   "version": "3.7.4"
  }
 },
 "nbformat": 4,
 "nbformat_minor": 2
}
