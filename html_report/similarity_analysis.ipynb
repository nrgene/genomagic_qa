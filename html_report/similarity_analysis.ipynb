{
 "cells": [
  {
   "cell_type": "code",
   "execution_count": null,
   "metadata": {},
   "outputs": [],
   "source": [
    "%matplotlib inline\n",
    "import sys\n",
    "import os\n",
    "working_dir_path = os.getcwd()\n",
    "genomagic_qa_repo_path = '/'.join(working_dir_path.split('/')[:-1])\n",
    "sys.path.append(genomagic_qa_repo_path)\n",
    "import redshift.redshift_queries as rs\n",
    "bp_units = 1000000\n",
    "\n",
    "\n",
    "\n",
    "\n",
    "#change this parameters\n",
    "host='rndlab-genomagic-redshift.cl6ox83ermwm.us-east-1.redshift.amazonaws.com'\n",
    "#data_version='dm_gm_public_maize_232'\n",
    "data_version = 'public_soy_v2_03'\n",
    "total_genome_size = rs.get_genome_size(host, data_version)\n",
    "print('total genome size of pivot sample is {:.1f} Mb'.format(total_genome_size/bp_units))"
   ]
  },
  {
   "cell_type": "markdown",
   "metadata": {},
   "source": [
    "### ARG/WGS similarities"
   ]
  },
  {
   "cell_type": "code",
   "execution_count": null,
   "metadata": {},
   "outputs": [],
   "source": [
    "sample_pair_types = []\n",
    "sample_pair_types.append(['whole_genome_sequencing', 'whole_genome_sequencing'])\n",
    "sample_pair_types.append(['applied_reference_genome', 'whole_genome_sequencing'])\n",
    "sample_pair_types.append(['whole_genome_sequencing', 'applied_reference_genome'])\n",
    "sample_pair_types.append(['applied_reference_genome', 'applied_reference_genome'])\n",
    "mean_all = rs.get_average_length_of_hap_similarity(host, data_version, sample_pair_types, 0)\n",
    "mean_ibd = rs.get_average_length_of_hap_similarity(host, data_version, sample_pair_types, 0.9)\n",
    "median_all = rs.get_median_length_of_hap_similarity(host, data_version, sample_pair_types, 0)\n",
    "median_ibd = rs.get_median_length_of_hap_similarity(host, data_version, sample_pair_types, 0.9)\n",
    "bp_units = 1000\n",
    "print('general similarity length : mean = {:.1f} Kb, median = {:.1f} Kb'.format(mean_all/bp_units, median_all/bp_units))\n",
    "print('ibd similarity length : mean = {:.1f} Kb, median = {:.1f} Kb'.format(mean_ibd/bp_units, median_ibd/bp_units))\n",
    "rs.compute_sim_len_histogram(host, data_version, sample_pair_types, 0)\n",
    "out_name = '{}/similarity_length_per_comparison_wgs.csv'.format(os.getcwd())\n",
    "rs.write_all_pairwise_similarities(host, data_version, sample_pair_types, 0.9, out_name)\n",
    "print('avg similarity block count per comparison is {:.1f}'.format(total_genome_size/mean_all))\n",
    "print('writing similarity length per comparison to {}'.format(out_name))"
   ]
  },
  {
   "cell_type": "markdown",
   "metadata": {},
   "source": [
    "### gbs similarities"
   ]
  },
  {
   "cell_type": "code",
   "execution_count": null,
   "metadata": {},
   "outputs": [],
   "source": [
    "sample_pair_types = []\n",
    "sample_pair_types.append(['whole_genome_sequencing', 'genotyping_by_sequencing'])\n",
    "sample_pair_types.append(['applied_reference_genome', 'genotyping_by_sequencing'])\n",
    "sample_pair_types.append(['genotyping_by_sequencing', 'whole_genome_sequencing'])\n",
    "sample_pair_types.append(['genotyping_by_sequencing', 'applied_reference_genome'])\n",
    "mean_all = rs.get_average_length_of_hap_similarity(host, data_version, sample_pair_types, 0)\n",
    "mean_ibd = rs.get_average_length_of_hap_similarity(host, data_version, sample_pair_types, 0.9)\n",
    "median_all = rs.get_median_length_of_hap_similarity(host, data_version, sample_pair_types, 0)\n",
    "median_ibd = rs.get_median_length_of_hap_similarity(host, data_version, sample_pair_types, 0.9)\n",
    "bp_units = 1000\n",
    "print('general similarity length : mean = {:.1f} Kb, median = {:.1f} Kb'.format(mean_all/bp_units, median_all/bp_units))\n",
    "print('ibd similarity length : mean = {:.1f} Kb, median = {:.1f} Kb'.format(mean_ibd/bp_units, median_ibd/bp_units))\n",
    "rs.compute_sim_len_histogram(host, data_version, sample_pair_types, 0)\n",
    "out_name = '{}/similarity_length_per_comparison_gbs.csv'.format(os.getcwd())\n",
    "rs.write_all_pairwise_similarities(host, data_version, sample_pair_types, 0.9, out_name)\n",
    "print('avg similarity block count per comparison is {:.1f}'.format(total_genome_size/mean_all))\n",
    "print('writing similarity length per comparison to {}'.format(out_name))"
   ]
  },
  {
   "cell_type": "markdown",
   "metadata": {},
   "source": [
    "### snp similarities"
   ]
  },
  {
   "cell_type": "code",
   "execution_count": null,
   "metadata": {},
   "outputs": [],
   "source": [
    "sample_pair_types = []\n",
    "sample_pair_types.append(['whole_genome_sequencing', 'snp_marker'])\n",
    "sample_pair_types.append(['applied_reference_genome', 'snp_marker'])\n",
    "sample_pair_types.append(['snp_marker', 'whole_genome_sequencing'])\n",
    "sample_pair_types.append(['snp_marker', 'applied_reference_genome'])\n",
    "sample_pair_types.append(['snp_marker', 'snp_marker'])\n",
    "mean_all = rs.get_average_length_of_hap_similarity(host, data_version, sample_pair_types, 0)\n",
    "mean_ibd = rs.get_average_length_of_hap_similarity(host, data_version, sample_pair_types, 0.9)\n",
    "median_all = rs.get_median_length_of_hap_similarity(host, data_version, sample_pair_types, 0)\n",
    "median_ibd = rs.get_median_length_of_hap_similarity(host, data_version, sample_pair_types, 0.9)\n",
    "bp_units = 1000\n",
    "print('general similarity length : mean = {:.1f} Kb, median = {:.1f} Kb'.format(mean_all/bp_units, median_all/bp_units))\n",
    "print('ibd similarity length : mean = {:.1f} Kb, median = {:.1f} Kb'.format(mean_ibd/bp_units, median_ibd/bp_units))\n",
    "rs.compute_sim_len_histogram(host, data_version, sample_pair_types, 0)\n",
    "out_name = '{}/similarity_length_per_comparison_snp.csv'.format(os.getcwd())\n",
    "rs.write_all_pairwise_similarities(host, data_version, sample_pair_types, 0.9, out_name)\n",
    "print('avg similarity block count per comparison is {:.1f}'.format(total_genome_size/mean_all))\n",
    "print('writing similarity length per comparison to {}'.format(out_name))"
   ]
  }
 ],
 "metadata": {
  "kernelspec": {
   "display_name": "Python 3",
   "language": "python",
   "name": "python3"
  },
  "language_info": {
   "codemirror_mode": {
    "name": "ipython",
    "version": 3
   },
   "file_extension": ".py",
   "mimetype": "text/x-python",
   "name": "python",
   "nbconvert_exporter": "python",
   "pygments_lexer": "ipython3",
   "version": "3.7.6"
  }
 },
 "nbformat": 4,
 "nbformat_minor": 2
}
