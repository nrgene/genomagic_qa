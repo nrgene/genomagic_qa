{
 "cells": [
  {
   "cell_type": "code",
   "execution_count": 1,
   "metadata": {},
   "outputs": [],
   "source": [
    "%matplotlib inline\n",
    "import sys\n",
    "import os\n",
    "working_dir_path = os.getcwd()\n",
    "genomagic_qa_repo_path = '/'.join(working_dir_path.split('/')[:-1])\n",
    "bp_units = 1000000\n",
    "\n",
    "sys.path.append(genomagic_qa_repo_path)\n",
    "import redshift.redshift_queries as rs\n",
    "\n",
    "#change this parameters\n",
    "host='rndlab-genomagic-redshift.cl6ox83ermwm.us-east-1.redshift.amazonaws.com'\n",
    "data_version='maize_benchmark_test_fix_mkrs_919_01'"
   ]
  },
  {
   "cell_type": "markdown",
   "metadata": {},
   "source": [
    "### ARG/WGS similarities"
   ]
  },
  {
   "cell_type": "code",
   "execution_count": 2,
   "metadata": {},
   "outputs": [
    {
     "name": "stdout",
     "output_type": "stream",
     "text": [
      "mean length =233477, only in ibd =313944\n",
      "mean length =115278, only in ibd =77693\n"
     ]
    }
   ],
   "source": [
    "sample_pair_types = []\n",
    "sample_pair_types.append(['whole_genome_sequencing', 'whole_genome_sequencing'])\n",
    "sample_pair_types.append(['applied_reference_genome', 'whole_genome_sequencing'])\n",
    "sample_pair_types.append(['whole_genome_sequencing', 'applied_reference_genome'])\n",
    "sample_pair_types.append(['applied_reference_genome', 'applied_reference_genome'])\n",
    "mean_all = rs.get_average_length_of_hap_similarity(host, data_version, sample_pair_types, 0)\n",
    "mean_ibd = rs.get_average_length_of_hap_similarity(host, data_version, sample_pair_types, 0.9)\n",
    "median_all = rs.get_median_length_of_hap_similarity(host, data_version, sample_pair_types, 0)\n",
    "median_ibd = rs.get_median_length_of_hap_similarity(host, data_version, sample_pair_types, 0.9)\n",
    "print('mean length ={}, only in ibd ={}'.format(mean_all, mean_ibd))\n",
    "print('mean length ={}, only in ibd ={}'.format(median_all, median_ibd))"
   ]
  },
  {
   "cell_type": "markdown",
   "metadata": {},
   "source": [
    "### gbs similarities"
   ]
  },
  {
   "cell_type": "code",
   "execution_count": 3,
   "metadata": {},
   "outputs": [
    {
     "name": "stdout",
     "output_type": "stream",
     "text": [
      "mean length =None, only in ibd =None\n",
      "mean length =None, only in ibd =None\n"
     ]
    }
   ],
   "source": [
    "sample_pair_types = []\n",
    "sample_pair_types.append(['whole_genome_sequencing', 'genotyping_by_sequencing'])\n",
    "sample_pair_types.append(['applied_reference_genome', 'genotyping_by_sequencing'])\n",
    "sample_pair_types.append(['genotyping_by_sequencing', 'whole_genome_sequencing'])\n",
    "sample_pair_types.append(['genotyping_by_sequencing', 'applied_reference_genome'])\n",
    "mean_all = rs.get_average_length_of_hap_similarity(host, data_version, sample_pair_types, 0)\n",
    "mean_ibd = rs.get_average_length_of_hap_similarity(host, data_version, sample_pair_types, 0.9)\n",
    "median_all = rs.get_median_length_of_hap_similarity(host, data_version, sample_pair_types, 0)\n",
    "median_ibd = rs.get_median_length_of_hap_similarity(host, data_version, sample_pair_types, 0.9)\n",
    "print('mean length ={}, only in ibd ={}'.format(mean_all, mean_ibd))\n",
    "print('mean length ={}, only in ibd ={}'.format(median_all, median_ibd))"
   ]
  },
  {
   "cell_type": "markdown",
   "metadata": {},
   "source": [
    "### snp similarities"
   ]
  },
  {
   "cell_type": "code",
   "execution_count": 4,
   "metadata": {},
   "outputs": [
    {
     "name": "stdout",
     "output_type": "stream",
     "text": [
      "mean length =None, only in ibd =None\n",
      "mean length =None, only in ibd =None\n"
     ]
    }
   ],
   "source": [
    "sample_pair_types = []\n",
    "sample_pair_types.append(['whole_genome_sequencing', 'snp_marker'])\n",
    "sample_pair_types.append(['applied_reference_genome', 'snp_marker'])\n",
    "sample_pair_types.append(['snp_marker', 'whole_genome_sequencing'])\n",
    "sample_pair_types.append(['snp_marker', 'applied_reference_genome'])\n",
    "mean_all = rs.get_average_length_of_hap_similarity(host, data_version, sample_pair_types, 0)\n",
    "mean_ibd = rs.get_average_length_of_hap_similarity(host, data_version, sample_pair_types, 0.9)\n",
    "median_all = rs.get_median_length_of_hap_similarity(host, data_version, sample_pair_types, 0)\n",
    "median_ibd = rs.get_median_length_of_hap_similarity(host, data_version, sample_pair_types, 0.9)\n",
    "print('mean length ={}, only in ibd ={}'.format(mean_all, mean_ibd))\n",
    "print('mean length ={}, only in ibd ={}'.format(median_all, median_ibd))"
   ]
  }
 ],
 "metadata": {
  "kernelspec": {
   "display_name": "Python 3",
   "language": "python",
   "name": "python3"
  },
  "language_info": {
   "codemirror_mode": {
    "name": "ipython",
    "version": 3
   },
   "file_extension": ".py",
   "mimetype": "text/x-python",
   "name": "python",
   "nbconvert_exporter": "python",
   "pygments_lexer": "ipython3",
   "version": "3.7.4"
  }
 },
 "nbformat": 4,
 "nbformat_minor": 2
}
