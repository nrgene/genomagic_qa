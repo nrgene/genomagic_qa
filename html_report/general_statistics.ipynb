{
 "cells": [
  {
   "cell_type": "code",
   "execution_count": 1,
   "metadata": {},
   "outputs": [],
   "source": [
    "%matplotlib inline\n",
    "import sys\n",
    "import os\n",
    "working_dir_path = os.getcwd()\n",
    "genomagic_qa_repo_path = '/'.join(working_dir_path.split('/')[:-1])\n",
    "bp_units = 1000000\n",
    "\n",
    "sys.path.append(genomagic_qa_repo_path)\n",
    "import redshift.redshift_queries as rs\n",
    "\n",
    "#change this parameters\n",
    "host='rndlab-genomagic-redshift.cl6ox83ermwm.us-east-1.redshift.amazonaws.com'\n",
    "data_version='maize_benchmark_test_fix_mkrs_919_01'\n"
   ]
  },
  {
   "cell_type": "markdown",
   "metadata": {},
   "source": [
    "### No. of samples per type (ARG/WGS/GBS/SNP)"
   ]
  },
  {
   "cell_type": "code",
   "execution_count": 2,
   "metadata": {},
   "outputs": [
    {
     "name": "stderr",
     "output_type": "stream",
     "text": [
      "INFO:root:executing SELECT table_name FROM maize_benchmark_test_fix_mkrs_919_01_data_version WHERE table_type = 'SAMPLES';\n",
      "INFO:root:executing SELECT COUNT(*),analysis_method FROM maize_benchmark_test_fix_mkrs_919_01_samples_view GROUP BY analysis_method;\n"
     ]
    },
    {
     "name": "stdout",
     "output_type": "stream",
     "text": [
      "\n",
      "whole_genome_sequencing samples count = 40\n",
      "applied_reference_genome samples count = 11\n"
     ]
    }
   ],
   "source": [
    "print(rs.get_samples_type_info_as_string(host, data_version))\n"
   ]
  },
  {
   "cell_type": "markdown",
   "metadata": {},
   "source": [
    "### No. of HM, No of mapped mapped  HM"
   ]
  },
  {
   "cell_type": "code",
   "execution_count": 3,
   "metadata": {},
   "outputs": [
    {
     "name": "stderr",
     "output_type": "stream",
     "text": [
      "INFO:root:executing SELECT table_name FROM maize_benchmark_test_fix_mkrs_919_01_data_version WHERE table_type = 'HAPLOTYPES_INFO';\n",
      "INFO:root:executing SELECT COUNT(*) FROM maize_benchmark_test_fix_mkrs_919_01_haplotypes_info_view;\n",
      "INFO:root:executing SELECT COUNT(*) FROM maize_benchmark_test_fix_mkrs_919_01_haplotypes_info_view WHERE chromosome=0;\n"
     ]
    },
    {
     "name": "stdout",
     "output_type": "stream",
     "text": [
      "There are 31.35M total haplotypes, 10.86M are unmapped\n"
     ]
    }
   ],
   "source": [
    "[total_haps, unmapped_haps] = rs.get_hap_count_total_hap_markers_as_string(host, data_version)\n",
    "print('There are {:.2f}M total haplotypes, {:.2f}M are unmapped'.format(total_haps/bp_units, unmapped_haps/bp_units))"
   ]
  },
  {
   "cell_type": "markdown",
   "metadata": {},
   "source": [
    "### HMs in samples"
   ]
  },
  {
   "cell_type": "code",
   "execution_count": 4,
   "metadata": {},
   "outputs": [
    {
     "name": "stderr",
     "output_type": "stream",
     "text": [
      "INFO:root:executing SELECT table_name FROM maize_benchmark_test_fix_mkrs_919_01_data_version WHERE table_type = 'HAPLOTYPE_SAMPLES';\n",
      "INFO:root:executing SELECT table_name FROM maize_benchmark_test_fix_mkrs_919_01_data_version WHERE table_type = 'HAPLOTYPES_INFO';\n",
      "INFO:root:executing WITH samples AS (SELECT haplotype_idx, sample_id FROM maize_benchmark_test_fix_mkrs_919_01_haplotype_samples_view), haps AS (SELECT haplotype_idx, chromosome FROM maize_benchmark_test_fix_mkrs_919_01_haplotypes_info_view) SELECT COUNT(*) FROM samples INNER JOIN haps ON samples.haplotype_idx=haps.haplotype_idx;\n",
      "INFO:root:executing WITH samples AS (SELECT haplotype_idx, sample_id FROM maize_benchmark_test_fix_mkrs_919_01_haplotype_samples_view), haps AS (SELECT haplotype_idx, chromosome FROM maize_benchmark_test_fix_mkrs_919_01_haplotypes_info_view) SELECT COUNT(*) FROM samples INNER JOIN haps ON samples.haplotype_idx=haps.haplotype_idx WHERE chromosome=0;\n"
     ]
    },
    {
     "name": "stdout",
     "output_type": "stream",
     "text": [
      "There are 232.47M total haplotypes X samples , 79.96M are unmapped\n"
     ]
    }
   ],
   "source": [
    "[total_haps, unmapped_haps] = rs.get_hap_samples_total_as_string(host, data_version)\n",
    "print('There are {:.2f}M total haplotypes X samples , {:.2f}M are unmapped'.format(total_haps/bp_units, unmapped_haps/bp_units))\n"
   ]
  },
  {
   "attachments": {},
   "cell_type": "markdown",
   "metadata": {},
   "source": [
    "### arg wgs samples data\n",
    "Sample\tType\tOwner\tNew in v3\tMapped HM\n"
   ]
  },
  {
   "cell_type": "code",
   "execution_count": null,
   "metadata": {},
   "outputs": [],
   "source": []
  }
 ],
 "metadata": {
  "kernelspec": {
   "display_name": "Python 3",
   "language": "python",
   "name": "python3"
  },
  "language_info": {
   "codemirror_mode": {
    "name": "ipython",
    "version": 3
   },
   "file_extension": ".py",
   "mimetype": "text/x-python",
   "name": "python",
   "nbconvert_exporter": "python",
   "pygments_lexer": "ipython3",
   "version": "3.7.4"
  }
 },
 "nbformat": 4,
 "nbformat_minor": 2
}
