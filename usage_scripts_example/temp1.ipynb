{
 "cells": [
  {
   "cell_type": "code",
   "execution_count": 1,
   "metadata": {},
   "outputs": [],
   "source": [
    "%matplotlib inline\n",
    "import sys\n",
    "import os\n",
    "import numpy as np\n",
    "import pandas as pd\n",
    "genomagic_path = '/home/ariel/clients/genomagic_qa/'\n",
    "sys.path.append(genomagic_path)\n",
    "import api_server.requests as api\n",
    "import vcf_utils.vcf_reader as rd\n",
    "\n",
    "vcf_info_columns_num = 9\n",
    "#snp_marker_request(api_server, data_version, samples, locations)"
   ]
  },
  {
   "cell_type": "code",
   "execution_count": 2,
   "metadata": {},
   "outputs": [],
   "source": [
    "api_server='api-dev.nrgene.local'\n",
    "data_version = 'public_soy_v1_14'\n",
    "samples = 'lee__ver100,pi483463__ver100,williams82__ver100,fc33243_anderson__ver100,pi180501_strain_no__18__ver100,pi240664_bilomi_no__3__ver100,pi266806c_no_4__ver100,pi322692_max_c_p1159a8__ver100,pi360957_karafuto_no__1__ver100,pi361087_medias_23__ver100,pi361093_novosadska_br__1__ver100,pi437265d_dobruzanca_d__ver100,pi438335_sao_196_c__ver100,pi468908__ver100,pi497964a_i_c__9461__ver100,pi507180_rikuu_21__ver100,pi518668_tn_4_86__ver100,pi548193_t201__ver100,pi548360_korean__ver100,pi548364_macoupin__ver100,pi548447_cherokee__ver100,pi548452_dixie__ver100,pi548490_tanner__ver100,pi548520_preston__ver100,pi548561_hodgson__ver100,pi548619_sparks__ver100,pi549041a_zyd_2709__ver100,pi559932_manokin__ver100,pi567426_bai_huang_dou__ver100,pi567558_liu_shi_ri_jin_huang_da_dou__ver100,pi567604a_xin_huang_dou__ver100,pi567788_bienville__ver100,pi578309_i_64__ver100,pi592523_glacier__ver100'\n",
    "locations='2'\n"
   ]
  },
  {
   "cell_type": "code",
   "execution_count": 4,
   "metadata": {},
   "outputs": [],
   "source": [
    "max_hap_num = 1000000\n",
    "df = api.get_snp_markers_as_dataframe(api_server, data_version, samples, locations, max_hap_num)"
   ]
  },
  {
   "cell_type": "code",
   "execution_count": 5,
   "metadata": {},
   "outputs": [
    {
     "name": "stdout",
     "output_type": "stream",
     "text": [
      "(11993, 37)\n"
     ]
    }
   ],
   "source": [
    "print(df.shape)"
   ]
  },
  {
   "cell_type": "code",
   "execution_count": null,
   "metadata": {},
   "outputs": [],
   "source": []
  },
  {
   "cell_type": "code",
   "execution_count": null,
   "metadata": {},
   "outputs": [],
   "source": []
  }
 ],
 "metadata": {
  "kernelspec": {
   "display_name": "Python 3",
   "language": "python",
   "name": "python3"
  },
  "language_info": {
   "codemirror_mode": {
    "name": "ipython",
    "version": 3
   },
   "file_extension": ".py",
   "mimetype": "text/x-python",
   "name": "python",
   "nbconvert_exporter": "python",
   "pygments_lexer": "ipython3",
   "version": "3.7.4"
  }
 },
 "nbformat": 4,
 "nbformat_minor": 2
}
