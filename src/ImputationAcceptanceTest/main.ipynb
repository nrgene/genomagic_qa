{
 "cells": [
  {
   "cell_type": "code",
   "execution_count": 1,
   "metadata": {},
   "outputs": [
    {
     "name": "stdout",
     "output_type": "stream",
     "text": [
      "sending api request - snp\n",
      "http://api-dev:8080/genomagic-api/v1/sync-job/SNP_MARKERS_COLOR_VCF.vcf?dataVersion=dm_gm_public_maize_232&samplesQuery=b73v4__ver100+OR+b73v4__ver100+OR+b73v4__ver100+OR+b73v4__ver100+OR+w22__ver100+OR+w22__ver100+OR+w22__ver100+OR+cml247__ver100+OR+cml247__ver100+OR+cml247__ver100+OR+mo17__ver100+OR+mo17__ver100&locations=3&outputSamples=b73v4__ver100,b73v4__ver100,b73v4__ver100,b73v4__ver100,w22__ver100,w22__ver100,w22__ver100,cml247__ver100,cml247__ver100,cml247__ver100,mo17__ver100,mo17__ver100\n",
      "http://api-dev:8080/genomagic-api/v1/sync-job/MARKER_IMPUTATION_COLOR_VCF.vcf?dataVersion=dm_gm_public_maize_232&markerType=snp&samples=b73_buckler_2815_1,b73_buckler_2815_2,b73,b73htrhm,w22_buckler_2815_1,w22,w22_r_r_std,cml247_buckler_2815_1,cml247_buckler_2815_2,cml247,mo17_buckler_2815_1,mo17&locations=3\n",
      "api request finished successfully after 1.0 seconds\n",
      "FAILED: w22_buckler_2815_1 imputation vs w22__ver100 source missing = 4.18%\n",
      "sending api requests - haplotypes\n",
      "http://api-dev:8080/genomagic-api/v1/sync-job/HAPLOTYPE_MARKERS_COLOR_VCF.vcf?dataVersion=dm_gm_public_maize_232&samplesQuery=b73v4__ver100+OR+b73v4__ver100+OR+b73v4__ver100+OR+b73v4__ver100+OR+w22__ver100+OR+w22__ver100+OR+w22__ver100+OR+cml247__ver100+OR+cml247__ver100+OR+cml247__ver100+OR+mo17__ver100+OR+mo17__ver100&locations=3&outputSamples=b73v4__ver100,b73v4__ver100,b73v4__ver100,b73v4__ver100,w22__ver100,w22__ver100,w22__ver100,cml247__ver100,cml247__ver100,cml247__ver100,mo17__ver100,mo17__ver100\n",
      "http://api-dev:8080/genomagic-api/v1/sync-job/MARKER_IMPUTATION_COLOR_VCF.vcf?dataVersion=dm_gm_public_maize_232&markerType=haplotype&samples=b73_buckler_2815_1,b73_buckler_2815_2,b73,b73htrhm,w22_buckler_2815_1,w22,w22_r_r_std,cml247_buckler_2815_1,cml247_buckler_2815_2,cml247,mo17_buckler_2815_1,mo17&locations=3\n",
      "api request finished successfully after 0.9 seconds\n",
      "FAILED: b73_buckler_2815_1 imputation vs b73v4__ver100 source false_positive = 24.6%\n",
      "FAILED: b73_buckler_2815_2 imputation vs b73v4__ver100 source false_positive = 19.89%\n",
      "FAILED: b73 imputation vs b73v4__ver100 source false_positive = 21.36%\n",
      "FAILED: b73htrhm imputation vs b73v4__ver100 source false_positive = 21.22%\n",
      "FAILED: w22_buckler_2815_1 imputation vs w22__ver100 source false_positive = 24.45%\n",
      "FAILED: w22 imputation vs w22__ver100 source false_positive = 20.61%\n",
      "FAILED: w22_r_r_std imputation vs w22__ver100 source false_positive = 20.67%\n",
      "FAILED: cml247_buckler_2815_1 imputation vs cml247__ver100 source false_positive = 22.71%\n",
      "FAILED: cml247_buckler_2815_2 imputation vs cml247__ver100 source false_positive = 19.5%\n",
      "FAILED: cml247 imputation vs cml247__ver100 source false_positive = 19.66%\n",
      "FAILED: mo17_buckler_2815_1 imputation vs mo17__ver100 source false_positive = 24.31%\n",
      "FAILED: mo17 imputation vs mo17__ver100 source false_positive = 21.67%\n",
      "FAILED: w22_buckler_2815_1 imputation vs w22__ver100 source false_negative = 1.16%\n",
      "FAILED: w22 imputation vs w22__ver100 source false_negative = 1.92%\n"
     ]
    }
   ],
   "source": [
    "import imputation_utils #hi\n",
    "my_api_server = \"api-dev\"\n",
    "my_data_version = \"dm_gm_public_maize_232\"\n",
    "locations_string = \"3\"\n",
    "mismatch_percent_threshold = 3\n",
    "missing_percent_threshold = 1\n",
    "new_percent_threshold = 5\n",
    "false_positive_threshold = 17 # this is very high, we need to think about it\n",
    "false_negative_threshold = 1\n",
    "comparison_list = list()\n",
    "comparison_list.append(('b73_buckler_2815_1', 'b73v4__ver100'))\n",
    "comparison_list.append(('b73_buckler_2815_2', 'b73v4__ver100'))\n",
    "comparison_list.append(('b73', 'b73v4__ver100'))\n",
    "comparison_list.append(('b73htrhm', 'b73v4__ver100'))\n",
    "comparison_list.append(('w22_buckler_2815_1', 'w22__ver100'))\n",
    "comparison_list.append(('w22', 'w22__ver100'))\n",
    "comparison_list.append(('w22_r_r_std', 'w22__ver100'))\n",
    "comparison_list.append(('cml247_buckler_2815_1', 'cml247__ver100'))\n",
    "comparison_list.append(('cml247_buckler_2815_2', 'cml247__ver100'))\n",
    "comparison_list.append(('cml247', 'cml247__ver100'))\n",
    "comparison_list.append(('mo17_buckler_2815_1', 'mo17__ver100'))\n",
    "comparison_list.append(('mo17', 'mo17__ver100'))\n",
    "imputation_utils.test_imputation_snp(comparison_list, my_api_server, my_data_version, locations_string,\n",
    "                                     mismatch_percent_threshold, missing_percent_threshold, new_percent_threshold)\n",
    "imputation_utils.test_imputation_hap(comparison_list, my_api_server, my_data_version, locations_string,\n",
    "                                     false_positive_threshold, false_negative_threshold)"
   ]
  },
  {
   "cell_type": "code",
   "execution_count": null,
   "metadata": {},
   "outputs": [],
   "source": []
  },
  {
   "cell_type": "code",
   "execution_count": null,
   "metadata": {},
   "outputs": [],
   "source": []
  },
  {
   "cell_type": "code",
   "execution_count": null,
   "metadata": {},
   "outputs": [],
   "source": []
  }
 ],
 "metadata": {
  "kernelspec": {
   "display_name": "Python 2",
   "language": "python",
   "name": "python2"
  },
  "language_info": {
   "codemirror_mode": {
    "name": "ipython",
    "version": 2
   },
   "file_extension": ".py",
   "mimetype": "text/x-python",
   "name": "python",
   "nbconvert_exporter": "python",
   "pygments_lexer": "ipython2",
   "version": "2.7.12"
  }
 },
 "nbformat": 4,
 "nbformat_minor": 2
}
