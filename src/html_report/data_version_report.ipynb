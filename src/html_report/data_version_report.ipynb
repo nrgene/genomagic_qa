{
 "cells": [
  {
   "cell_type": "code",
   "execution_count": 7,
   "metadata": {},
   "outputs": [
    {
     "name": "stdout",
     "output_type": "stream",
     "text": [
      "maize_benchmark_test_fix_mkrs_919_01_haplotype_samples_view\n"
     ]
    }
   ],
   "source": [
    "import sys\n",
    "genomagic_qa_repo_path = '/home/ariel/clients/genomagic_qa'\n",
    "sys.path.append('{}/src'.format(genomagic_qa_repo_path))\n",
    "import redshift_queries.redshift_basic as rs\n",
    "host='rndlab-genomagic-redshift.cl6ox83ermwm.us-east-1.redshift.amazonaws.com'\n",
    "data_version = 'maize_benchmark_test_fix_mkrs_919_01'\n",
    "query = \"SELECT * from {}_data_version;\".format(data_version)\n",
    "#rows = rs.get_all_results(host, query)\n",
    "r = rs.get_table_name(host, data_version, 'HAPLOTYPE_SAMPLES')[0]\n",
    "print(r)   \n",
    "\n"
   ]
  },
  {
   "cell_type": "code",
   "execution_count": null,
   "metadata": {},
   "outputs": [],
   "source": []
  }
 ],
 "metadata": {
  "kernelspec": {
   "display_name": "Python 3",
   "language": "python",
   "name": "python3"
  },
  "language_info": {
   "codemirror_mode": {
    "name": "ipython",
    "version": 3
   },
   "file_extension": ".py",
   "mimetype": "text/x-python",
   "name": "python",
   "nbconvert_exporter": "python",
   "pygments_lexer": "ipython3",
   "version": "3.7.4"
  }
 },
 "nbformat": 4,
 "nbformat_minor": 2
}
