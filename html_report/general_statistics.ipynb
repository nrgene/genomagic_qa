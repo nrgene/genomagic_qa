{
 "cells": [
  {
   "cell_type": "code",
   "execution_count": 1,
   "metadata": {},
   "outputs": [],
   "source": [
    "%matplotlib inline\n",
    "import sys\n",
    "import os\n",
    "working_dir_path = os.getcwd()\n",
    "genomagic_qa_repo_path = '/'.join(working_dir_path.split('/')[:-1])\n",
    "bp_units = 1000000\n",
    "\n",
    "sys.path.append(genomagic_qa_repo_path)\n",
    "import redshift.redshift_queries as rs\n",
    "\n",
    "#change this parameters\n",
    "host='rndlab-genomagic-redshift.cl6ox83ermwm.us-east-1.redshift.amazonaws.com'\n",
    "data_version='maize_benchmark_test_fix_mkrs_919_01'\n"
   ]
  },
  {
   "cell_type": "markdown",
   "metadata": {},
   "source": [
    "### No. of samples per type (ARG/WGS/GBS/SNP)"
   ]
  },
  {
   "cell_type": "code",
   "execution_count": 2,
   "metadata": {},
   "outputs": [
    {
     "name": "stdout",
     "output_type": "stream",
     "text": [
      "\n",
      "whole_genome_sequencing samples count = 40\n",
      "applied_reference_genome samples count = 11\n"
     ]
    }
   ],
   "source": [
    "print(rs.get_samples_type_info_as_string(host, data_version))\n"
   ]
  },
  {
   "cell_type": "markdown",
   "metadata": {},
   "source": [
    "### No. of HM, No of mapped mapped  HM"
   ]
  },
  {
   "cell_type": "code",
   "execution_count": 3,
   "metadata": {},
   "outputs": [
    {
     "name": "stdout",
     "output_type": "stream",
     "text": [
      "There are 31.35M total haplotypes, 10.86M are unmapped\n"
     ]
    }
   ],
   "source": [
    "[total_haps, unmapped_haps] = rs.get_hap_count_total_hap_markers_as_string(host, data_version)\n",
    "print('There are {:.2f}M total haplotypes, {:.2f}M are unmapped'.format(total_haps/bp_units, unmapped_haps/bp_units))"
   ]
  },
  {
   "cell_type": "markdown",
   "metadata": {},
   "source": [
    "### HMs in samples"
   ]
  },
  {
   "cell_type": "code",
   "execution_count": 4,
   "metadata": {},
   "outputs": [
    {
     "name": "stdout",
     "output_type": "stream",
     "text": [
      "There are 232.47M total haplotypes X samples , 79.96M are unmapped\n"
     ]
    }
   ],
   "source": [
    "[total_haps, unmapped_haps] = rs.get_hap_samples_total_as_string(host, data_version)\n",
    "print('There are {:.2f}M total haplotypes X samples , {:.2f}M are unmapped'.format(total_haps/bp_units, unmapped_haps/bp_units))\n"
   ]
  },
  {
   "cell_type": "markdown",
   "metadata": {},
   "source": [
    "### arg wgs samples data"
   ]
  },
  {
   "cell_type": "code",
   "execution_count": 5,
   "metadata": {},
   "outputs": [
    {
     "name": "stdout",
     "output_type": "stream",
     "text": [
      "saved arg_wgs_full_haps_count to /home/ariel/clients/genomagic_qa/html_report/maize_benchmark_test_fix_mkrs_919_01_haps_per_sample.csv\n",
      "51\n",
      "saved arg_wgs_full_haps_count to /home/ariel/clients/genomagic_qa/html_report/maize_benchmark_test_fix_mkrs_919_01_haps_freq_per_sample.csv\n"
     ]
    }
   ],
   "source": [
    "rs.write_samples_haps_count_to_file(host, data_version)\n",
    "df = rs.write_samples_haps_freq_to_file(host, data_version)"
   ]
  },
  {
   "cell_type": "code",
   "execution_count": null,
   "metadata": {},
   "outputs": [],
   "source": []
  }
 ],
 "metadata": {
  "kernelspec": {
   "display_name": "Python 3",
   "language": "python",
   "name": "python3"
  },
  "language_info": {
   "codemirror_mode": {
    "name": "ipython",
    "version": 3
   },
   "file_extension": ".py",
   "mimetype": "text/x-python",
   "name": "python",
   "nbconvert_exporter": "python",
   "pygments_lexer": "ipython3",
   "version": "3.7.4"
  }
 },
 "nbformat": 4,
 "nbformat_minor": 2
}
