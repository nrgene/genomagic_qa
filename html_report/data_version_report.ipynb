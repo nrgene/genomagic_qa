{
 "cells": [
  {
   "cell_type": "code",
   "execution_count": null,
   "metadata": {},
   "outputs": [],
   "source": [
    "%matplotlib inline\n",
    "import sys\n",
    "import os\n",
    "working_dir_path = os.getcwd()\n",
    "genomagic_qa_repo_path = '/'.join(working_dir_path.split('/')[:-1])\n",
    "data_version=os.getenv(\"DATA_VERSION\")\n",
    "assert data_version is not None, \"env variable DATA_VERSION is not defined\"\n",
    "host=os.getenv(\"REDSHIFT_HOST\")\n",
    "assert data_version is not None, \"env variable REDSHIFT_HOST is not defined\"\n",
    "\n",
    "#data_version='maize_benchmark_test_fix_mkrs_919_01'\n",
    "sys.path.append(genomagic_qa_repo_path)\n",
    "import redshift.redshift_queries as rs\n",
    "\n",
    "#host='rndlab-genomagic-redshift.cl6ox83ermwm.us-east-1.redshift.amazonaws.com'\n",
    "print(rs.get_samples_type_info_as_string(host, data_version))\n",
    "print(rs.get_hap_count_total_hap_markers_as_string(host, data_version))\n",
    "rs.hist_count(host, data_version)\n",
    "rs.hist_count2(host, data_version)"
   ]
  },
  {
   "cell_type": "code",
   "execution_count": null,
   "metadata": {},
   "outputs": [],
   "source": []
  }
 ],
 "metadata": {
  "kernelspec": {
   "display_name": "Python 3",
   "language": "python",
   "name": "python3"
  },
  "language_info": {
   "codemirror_mode": {
    "name": "ipython",
    "version": 3
   },
   "file_extension": ".py",
   "mimetype": "text/x-python",
   "name": "python",
   "nbconvert_exporter": "python",
   "pygments_lexer": "ipython3",
   "version": "3.7.4"
  }
 },
 "nbformat": 4,
 "nbformat_minor": 2
}
