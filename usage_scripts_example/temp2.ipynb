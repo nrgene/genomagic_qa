{
 "cells": [
  {
   "cell_type": "code",
   "execution_count": 1,
   "metadata": {},
   "outputs": [],
   "source": [
    "%matplotlib inline\n",
    "import sys\n",
    "import os\n",
    "working_dir_path = os.getcwd()\n",
    "genomagic_qa_repo_path = '/'.join(working_dir_path.split('/')[:-1])\n",
    "sys.path.append(genomagic_qa_repo_path)\n",
    "import redshift.redshift_queries as rs\n",
    "host='rndlab-genomagic-redshift.cl6ox83ermwm.us-east-1.redshift.amazonaws.com'\n",
    "data_version = 'public_soy_v2_03'"
   ]
  },
  {
   "cell_type": "code",
   "execution_count": 2,
   "metadata": {},
   "outputs": [
    {
     "name": "stdout",
     "output_type": "stream",
     "text": [
      "with similar_samples as (select sample1, sample2 from public_soy_v2_03_haplotypes_similarity_view where similarity_score>=0.85 and chromosome_id=1 and start_position <= 14000000 and end_position >= 14000000), wgs_samples as (select sample_id from public_soy_v2_03_samples_view where analysis_method='applied_reference_genome' or analysis_method='whole_genome_sequencing'), temp_var1 as (select sample1, sample2 from similar_samples inner join wgs_samples on sample1=sample_id), temp_var2 as (select sample1,sample2 from temp_var1 inner join wgs_samples on sample2=sample_id) select * from temp_var2;\n"
     ]
    }
   ],
   "source": [
    "chromosome=1\n",
    "position=14000000\n",
    "threshold=0.85\n",
    "df = rs.get_similarities_in_position(host, data_version, chromosome, position, threshold)"
   ]
  },
  {
   "cell_type": "code",
   "execution_count": 31,
   "metadata": {},
   "outputs": [
    {
     "data": {
      "image/png": "[encoded data removed]",
      "text/plain": [
       "<Figure size 432x288 with 1 Axes>"
      ]
     },
     "metadata": {
      "needs_background": "light"
     },
     "output_type": "display_data"
    }
   ],
   "source": [
    "import pandas as pd\n",
    "import numpy as np\n",
    "import matplotlib.pyplot as plt\n",
    "\n",
    "\n",
    "def get_edges_matrix(samples_list, edges_dataframe):\n",
    "    samples_num = len(samples_list)\n",
    "    edges_mat = np.full((samples_num,samples_num), False, dtype=bool)\n",
    "    for index, row in edges_dataframe.iterrows():\n",
    "        v1 = np.where(samples_list==row['sample1'])\n",
    "        v2 = np.where(samples_list==row['sample2'])\n",
    "        assert len(v1) == 1\n",
    "        assert len(v2) == 1\n",
    "        ind1 = v1[0][0]\n",
    "        ind2 = v2[0][0]\n",
    "        edges_mat[ind1,ind2] = True\n",
    "        edges_mat[ind2,ind1] = True\n",
    "    return edges_mat\n",
    "\n",
    "my_samples = pd.unique(pd.concat([df['sample1'], df['sample2']]))\n",
    "samples_num = len(my_samples)\n",
    "edges_mat = get_edges_matrix(my_samples, df)\n",
    "#print(edges_mat)\n",
    "plt.imshow(edges_mat)\n",
    "plt.show()\n",
    "\n",
    "\n",
    "\n",
    "\n",
    "\n",
    "\n",
    "\n",
    "    \n",
    "\n",
    "\n",
    "    \n",
    "\n",
    "\n",
    "\n",
    "\n",
    "    \n",
    "\n",
    "\n",
    "\n"
   ]
  },
  {
   "cell_type": "code",
   "execution_count": null,
   "metadata": {},
   "outputs": [],
   "source": [
    "\n",
    "my_samples = pd.unique(pd.concat([df['sample1'], df['sample2']]))\n",
    "samples_num = len(my_samples)\n",
    "edges_mat = np.full((samples_num,samples_num), False, dtype=bool)\n",
    "for index, row in df.iterrows():\n",
    "    v1 = np.where(my_samples==row['sample1'])\n",
    "    v2 = np.where(my_samples==row['sample2'])\n",
    "    assert len(v1) == 1\n",
    "    assert len(v2) == 1\n",
    "    ind1 = v1[0][0]\n",
    "    ind2 = v2[0][0]\n",
    "    edges_mat[ind1,ind2] = True\n",
    "    edges_mat[ind2,ind1] = True\n",
    "print()\n",
    "edges_mat = np.zeros()\n",
    "group = np.zeros(samples_num)\n",
    "next_color = 1\n",
    "for index, row in df.iterrows():\n",
    "    v1 = np.where(my_samples==row['sample1'])\n",
    "    v2 = np.where(my_samples==row['sample2'])\n",
    "    assert len(v1) == 1\n",
    "    assert len(v2) == 1\n",
    "    ind1 = v1[0][0]\n",
    "    ind2 = v2[0][0]\n",
    "    g1 = group[ind1]\n",
    "    g2 = group[ind2]\n",
    "    #print(ind1)\n",
    "    #print(ind2)\n",
    "    if g1 == 0 and g2 == 0:\n",
    "        group[ind1] = next_color\n",
    "        group[ind2] = next_color\n",
    "        next_color += 1\n",
    "    elif g1 == 0 and g2 > 0:\n",
    "        group[ind1] = g2\n",
    "    elif g1 > 0 and g2 == 0:\n",
    "        group[ind2] = g1\n",
    "    else:"
   ]
  },
  {
   "cell_type": "code",
   "execution_count": null,
   "metadata": {},
   "outputs": [],
   "source": [
    "edges_mat = np.zeros()\n",
    "group = np.zeros(samples_num)\n",
    "next_color = 1\n",
    "for index, row in df.iterrows():\n",
    "    v1 = np.where(my_samples==row['sample1'])\n",
    "    v2 = np.where(my_samples==row['sample2'])\n",
    "    assert len(v1) == 1\n",
    "    assert len(v2) == 1\n",
    "    ind1 = v1[0][0]\n",
    "    ind2 = v2[0][0]\n",
    "    g1 = group[ind1]\n",
    "    g2 = group[ind2]\n",
    "    #print(ind1)\n",
    "    #print(ind2)\n",
    "    if g1 == 0 and g2 == 0:\n",
    "        group[ind1] = next_color\n",
    "        group[ind2] = next_color\n",
    "        next_color += 1\n",
    "    elif g1 == 0 and g2 > 0:\n",
    "        group[ind1] = g2\n",
    "    elif g1 > 0 and g2 == 0:\n",
    "        group[ind2] = g1\n",
    "    else:\n",
    "        group[np.where(group==g2)]=g1\n",
    "print(group)\n",
    "        \n"
   ]
  }
 ],
 "metadata": {
  "kernelspec": {
   "display_name": "Python 3",
   "language": "python",
   "name": "python3"
  },
  "language_info": {
   "codemirror_mode": {
    "name": "ipython",
    "version": 3
   },
   "file_extension": ".py",
   "mimetype": "text/x-python",
   "name": "python",
   "nbconvert_exporter": "python",
   "pygments_lexer": "ipython3",
   "version": "3.7.4"
  }
 },
 "nbformat": 4,
 "nbformat_minor": 2
}
