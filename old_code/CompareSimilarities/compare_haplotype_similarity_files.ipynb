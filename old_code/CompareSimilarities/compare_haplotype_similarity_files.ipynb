{
 "cells": [
  {
   "cell_type": "code",
   "execution_count": 7,
   "metadata": {},
   "outputs": [
    {
     "name": "stdout",
     "output_type": "stream",
     "text": [
      "matching % is 0.81\n"
     ]
    }
   ],
   "source": [
    "import compareSimilarities\n",
    "from urllib2 import Request, urlopen, URLError\n",
    "\n",
    "port='http://api-dev:8080/genomagic-api/v1/'\n",
    "hap_similarity_job='sync-job/HAPLOTYPES_SIMILARITY_COLOR_VCF.vcf'\n",
    "data_version='dm_gm_public_maize_232'\n",
    "samples1='w22__ver100,b73v4__ver100,cml247__ver100,mo17__ver100'\n",
    "samples2='w22,b73,cml247,mo17'\n",
    "hap_markers_job='sync-job/HAPLOTYPE_MARKERS_COLOR_VCF.vcf'\n",
    "minBinSize=100000\n",
    "\n",
    "similarity1_url='{}{}?dataVersion={}&samples={}&minBinSize={}'.format(port,hap_similarity_job,data_version,samples1,minBinSize)\n",
    "similarity2_url='{}{}?dataVersion={}&samples={}&minBinSize={}'.format(port,hap_similarity_job,data_version,samples2,minBinSize)\n",
    "input1 = urlopen(Request(similarity1_url))\n",
    "input2 = urlopen(Request(similarity2_url))\n",
    "r=compareSimilarities.compareHaplotypeSimilarityFiles(input1,input2)\n",
    "print 'matching % is {}'.format(r)"
   ]
  },
  {
   "cell_type": "code",
   "execution_count": null,
   "metadata": {},
   "outputs": [],
   "source": []
  },
  {
   "cell_type": "code",
   "execution_count": null,
   "metadata": {},
   "outputs": [],
   "source": []
  },
  {
   "cell_type": "code",
   "execution_count": null,
   "metadata": {},
   "outputs": [],
   "source": []
  }
 ],
 "metadata": {
  "kernelspec": {
   "display_name": "Python 2",
   "language": "python",
   "name": "python2"
  },
  "language_info": {
   "codemirror_mode": {
    "name": "ipython",
    "version": 2
   },
   "file_extension": ".py",
   "mimetype": "text/x-python",
   "name": "python",
   "nbconvert_exporter": "python",
   "pygments_lexer": "ipython2",
   "version": "2.7.12"
  }
 },
 "nbformat": 4,
 "nbformat_minor": 2
}
