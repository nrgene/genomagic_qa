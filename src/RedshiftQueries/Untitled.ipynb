{
 "cells": [
  {
   "cell_type": "code",
   "execution_count": 2,
   "metadata": {},
   "outputs": [
    {
     "name": "stdout",
     "output_type": "stream",
     "text": [
      "summary of samples in genotyper_simulations_pag_jan_7_try_2:\n",
      "9 applied_reference_genome samples, 9 are top level\n",
      "25 whole_genome_sequencing samples, 25 are top level\n",
      "20400 snp_marker samples, 400 are top level\n",
      "\n",
      "summary of markers in genotyper_simulations_pag_jan_7_try_2:\n",
      "there are 621871 snp markers in the data version\n",
      "587477 out of 1243742 alleles are informative\n",
      "\n"
     ]
    }
   ],
   "source": [
    "import RedshiftUtils\n",
    "\n",
    "\n",
    "host='rndlab-genomagic-redshift.cl6ox83ermwm.us-east-1.redshift.amazonaws.com'\n",
    "#data_version_name='ariel_test_snp_alias_7'\n",
    "data_version_name='genotyper_simulations_pag_jan_7_try_2'\n",
    "\n",
    "cur = RedshiftUtils.createConnectionCursor(host)\n",
    "\n",
    "RedshiftUtils.printSamplesSummary(cur,data_version_name)\n",
    "RedshiftUtils.printMarkersSummary(cur,data_version_name)\n",
    "\n",
    "\n",
    "#bin_mappings    \n",
    "#chromosome_length \n",
    "#dm_gm_public_maize_232_                                         | table | nrgene\n",
    "# chromosomes                                                | table | nrgene\n",
    "# data_version                                               | table | nrgene\n",
    "# enriched_haplotypes                                        | table | nrgene\n",
    "# haplotype_samples                                          | table | nrgene\n",
    "# haplotypes_info                                            | table | nrgene\n",
    "# haplotypes_similarity                                      | table | nrgene\n",
    "# haplotypes_similarity_metadata                             | table | nrgene\n",
    "# mappings                                                   | table | nrgene\n",
    "# mappings_metadata                                          | table | nrgene\n",
    "# marker_samples                                             | table | nrgene\n",
    "# markers                                                    | table | nrgene\n",
    "# sample_groups                                              | table | nrgene\n",
    "# sample_groups_to_samples                                   | table | nrgene\n",
    "# samples                                                    | table | nrgene\n",
    "# samples_new     \n",
    "\n",
    "\n",
    "#cur.execute(\"\"\"SELECT COUNT(*) FROM {}_markers;\"\"\".format(data_version_name))\n",
    "#rows = cur.fetchall()\n",
    "#alleles_count=int(rows[0][0])\n",
    "#print \"there are {} snp markers in the data version\".format(alleles_count/2)\n",
    "\n",
    "#createConnectionCursor(dbname,user,host,port,password)\n",
    "#cur = RedshiftUtils.createConnectionCursor(dbname,user,host,port,password)\n",
    "#conn = psycopg2.connect(\"dbname={} user={} host={} port={} password={}\".format(dbname,user,host,port,password))\n",
    "#cur = conn.cursor()\n",
    "#cur.execute(\"\"\"SELECT COUNT(*) FROM {}_markers;\"\"\".format(data_version_name))\n",
    "#rows = cur.fetchall()\n",
    "#alleles_count=int(rows[0][0])\n",
    "#print \"there are {} snp markers in the data version\".format(alleles_count/2)\n",
    "\n",
    "#cur.execute(\"\"\"SELECT count(CASE WHEN is_informative THEN 1 END) FROM {}_markers;\"\"\".format(data_version_name))\n",
    "#rows = cur.fetchall()\n",
    "#informative_count=int(rows[0][0])\n",
    "#print \"{} out of {} alleles are informative\".format(informative_count,alleles_count)\n",
    "\n",
    "#cur.execute(\"\"\"SELECT count(chromosome_id_common),chromosome_id_common FROM {}_markers GROUP BY chromosome_id_common;\"\"\".format(data_version_name))\n",
    "#rows = cur.fetchall()\n",
    "#print rows\n",
    "#print 'hello'\n",
    " \n",
    "    \n",
    "\n"
   ]
  },
  {
   "cell_type": "code",
   "execution_count": null,
   "metadata": {},
   "outputs": [],
   "source": []
  },
  {
   "cell_type": "code",
   "execution_count": null,
   "metadata": {},
   "outputs": [],
   "source": []
  }
 ],
 "metadata": {
  "kernelspec": {
   "display_name": "Python 2",
   "language": "python",
   "name": "python2"
  },
  "language_info": {
   "codemirror_mode": {
    "name": "ipython",
    "version": 2
   },
   "file_extension": ".py",
   "mimetype": "text/x-python",
   "name": "python",
   "nbconvert_exporter": "python",
   "pygments_lexer": "ipython2",
   "version": "2.7.12"
  }
 },
 "nbformat": 4,
 "nbformat_minor": 2
}
